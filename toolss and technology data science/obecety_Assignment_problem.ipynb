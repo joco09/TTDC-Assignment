{
  "nbformat": 4,
  "nbformat_minor": 0,
  "metadata": {
    "colab": {
      "provenance": []
    },
    "kernelspec": {
      "name": "python3",
      "display_name": "Python 3"
    },
    "language_info": {
      "name": "python"
    }
  },
  "cells": [
    {
      "cell_type": "code",
      "execution_count": null,
      "metadata": {
        "id": "NzdhqrMOLvTv"
      },
      "outputs": [],
      "source": [
        "# Data Wrangling libs\n",
        "import numpy as np\n",
        "import pandas as pd\n",
        "\n",
        "# Vizualization libs\n",
        "import matplotlib.pyplot as plt\n",
        "import seaborn as sns\n",
        "\n",
        "# Data Encoding libs\n",
        "from sklearn.preprocessing import OneHotEncoder\n",
        "from sklearn.compose import ColumnTransformer\n",
        "from sklearn import preprocessing\n",
        "\n",
        "# Splitting dataset\n",
        "from sklearn.model_selection import train_test_split\n",
        "\n",
        "# Model Training Algorithms\n",
        "from sklearn.ensemble import RandomForestClassifier\n",
        "\n",
        "# Model Evaluation libs\n",
        "from sklearn.metrics import ConfusionMatrixDisplay\n",
        "from sklearn.metrics import accuracy_score, precision_score, recall_score, f1_score, classification_report\n",
        "from sklearn import metrics\n",
        "\n",
        "# data processing\n",
        "\n",
        "from sklearn.model_selection import train_test_split\n",
        "from sklearn.ensemble import RandomForestClassifier\n",
        "from sklearn.svm import SVC\n",
        "from sklearn.ensemble import GradientBoostingClassifier\n",
        "from sklearn.neighbors import KNeighborsClassifier\n",
        "from sklearn.naive_bayes import GaussianNB\n",
        "from sklearn.linear_model import LogisticRegression\n",
        "from sklearn.neural_network import MLPClassifier\n",
        "from sklearn.metrics import accuracy_score, precision_score, recall_score, f1_score, classification_report\n",
        "from sklearn.utils import class_weight\n",
        "from imblearn.over_sampling import SMOTE\n",
        "from time import time"
      ]
    },
    {
      "cell_type": "code",
      "source": [
        "# Loading the dataset\n",
        "data = pd.read_csv(\"data/ObesityDataSet.csv\")\n",
        "data.head(10)"
      ],
      "metadata": {
        "id": "LdgNL7cEL27n"
      },
      "execution_count": null,
      "outputs": []
    },
    {
      "cell_type": "code",
      "source": [
        "data.info()\n",
        "data.describe()\n",
        "# Checking weather a dataset contains null values or not and identifying the data types"
      ],
      "metadata": {
        "id": "WdvlmFjbMDvS"
      },
      "execution_count": null,
      "outputs": []
    },
    {
      "cell_type": "code",
      "source": [
        "import pandas as pd\n",
        "import matplotlib.pyplot as plt\n",
        "\n",
        "\n",
        "\n",
        "# Assuming the column representing classes is named 'class_column'\n",
        "class_counts = data['NObeyesdad'].value_counts()\n",
        "\n",
        "# Plotting the pie chart\n",
        "plt.figure(figsize=(8, 8))\n",
        "plt.pie(class_counts, labels=class_counts.index, autopct='%1.1f%%', startangle=140, colors=['#66b3ff','#99ff99','#ffcc99', '#c2c2f0', '#ffb3e6'])\n",
        "plt.title('Class Distribution')\n",
        "plt.show()\n",
        "\n",
        "\n"
      ],
      "metadata": {
        "id": "z7SkeeItMD2g"
      },
      "execution_count": null,
      "outputs": []
    },
    {
      "cell_type": "code",
      "source": [
        "data.duplicated()\n",
        "# find duplicated data\n",
        "\n",
        "duplicate_rows = data[data.duplicated()]\n",
        "# make table for duplicated data\n",
        "\n",
        "duplicate_rows\n",
        "# display duplicated data\n"
      ],
      "metadata": {
        "id": "w6ZBb-B3MD8o"
      },
      "execution_count": null,
      "outputs": []
    },
    {
      "cell_type": "code",
      "source": [
        "\n",
        "data = data.drop_duplicates()\n",
        "# Removing the duplicate rows\n",
        "\n",
        "data.shape\n",
        "#shows new shape of data set"
      ],
      "metadata": {
        "id": "dFPCOgMNOyjW"
      },
      "execution_count": null,
      "outputs": []
    },
    {
      "cell_type": "code",
      "source": [
        "data.isnull()\n",
        "#finding null vallues\n",
        "\n",
        "data.isnull().sum()\n",
        "# there area 0 null values."
      ],
      "metadata": {
        "id": "dmZ1Oc3RPc-M"
      },
      "execution_count": null,
      "outputs": []
    },
    {
      "cell_type": "code",
      "source": [
        "# label_encoder object knows\n",
        "# how to understand word labels.\n",
        "label_encoder = preprocessing.LabelEncoder()\n",
        "\n",
        "# Encode labels in column 'species'.\n",
        "data['Gender']= label_encoder.fit_transform(data['Gender'])\n",
        "data['family_history_with_overweight']= label_encoder.fit_transform(data['family_history_with_overweight'])\n",
        "data['FAVC']= label_encoder.fit_transform(data['FAVC'])\n",
        "data['CAEC']= label_encoder.fit_transform(data['CAEC'])\n",
        "data['SMOKE']= label_encoder.fit_transform(data['SMOKE'])\n",
        "data['SCC']= label_encoder.fit_transform(data['SCC'])\n",
        "data['CALC']= label_encoder.fit_transform(data['CALC'])\n",
        "data['MTRANS']= label_encoder.fit_transform(data['MTRANS'])\n",
        "data['NObeyesdad']= label_encoder.fit_transform(data['NObeyesdad'])\n",
        "\n",
        "data.head(10)"
      ],
      "metadata": {
        "id": "cdWrAKjj2boZ"
      },
      "execution_count": null,
      "outputs": []
    },
    {
      "cell_type": "code",
      "source": [
        "# plt.plot(['Age'], ['NObeyesdad'] , marker = 'o', linestyle = '-', label= 'Age and obesity')\n",
        "# plt.xlabel('Age')\n",
        "# plt.ylabel('Obesity level')\n",
        "\n",
        "# plt.legend()\n",
        "# plt.show()\n",
        "\n",
        "from pandas.plotting import scatter_matrix\n",
        "\n",
        "scatter_matrix(data, alpha=0.2, figsize=(16, 12), diagonal='kde');"
      ],
      "metadata": {
        "id": "X5aWtUG5Pv2E"
      },
      "execution_count": null,
      "outputs": []
    },
    {
      "cell_type": "code",
      "source": [
        "data.plot(kind='scatter', x='Age', y=\"NObeyesdad\", title='Sepal length vs width' ,figsize=(8,8));"
      ],
      "metadata": {
        "id": "tG35VzpYVS-X"
      },
      "execution_count": null,
      "outputs": []
    },
    {
      "cell_type": "code",
      "source": [
        "fig = plt.figure();\n",
        "fig, ax = plt.subplots()\n",
        "ax.margins(0.05) # Optional, just adds 5% padding to the autoscaling\n",
        "\n",
        "# group the data instances according to the different classes they belong to\n",
        "groups = data.groupby('NObeyesdad')\n",
        "\n",
        "# iterate over each group and plot (scatter)\n",
        "for name, group in groups:\n",
        "    ax.plot(group.Age, group.NObeyesdad, marker='x', linestyle='', ms=12, label=name)\n",
        "\n",
        "# set labels for the y and x axes\n",
        "ax.set_xlabel('Age')\n",
        "ax.set_ylabel('Obesity level')\n",
        "\n",
        "# add legend to the figure\n",
        "ax.legend()"
      ],
      "metadata": {
        "id": "zn-o-q-jXFvm"
      },
      "execution_count": null,
      "outputs": []
    },
    {
      "cell_type": "code",
      "source": [
        "fig = plt.figure();\n",
        "fig, ax = plt.subplots()\n",
        "ax.margins(0.05) # Optional, just adds 5% padding to the autoscaling\n",
        "\n",
        "# group the data instances according to the different classes they belong to\n",
        "groups = data.groupby('NObeyesdad')\n",
        "\n",
        "# iterate over each group and plot (scatter)\n",
        "for name, group in groups:\n",
        "    ax.plot(group.Age, group.NCP, marker='x', linestyle='', ms=12, label=name)\n",
        "\n",
        "# set labels for the y and x axes\n",
        "ax.set_xlabel('Age')\n",
        "ax.set_ylabel('Obesity level')\n",
        "\n",
        "# add legend to the figure\n",
        "ax.legend()"
      ],
      "metadata": {
        "id": "Uo8bBFCUYrks"
      },
      "execution_count": null,
      "outputs": []
    },
    {
      "cell_type": "code",
      "source": [
        "# Compute pairwise correlation of all features\n",
        "\n",
        "# Using Pearson's (linear relationship) - assumes normal distribution\n",
        "# corr = data.corr(method='pearson')\n",
        "# print (corr)\n",
        "\n",
        "# Using Sparman's (non-linear relationship) - doesn't assume normal distribution\n",
        "corr = data.corr(method='spearman')\n",
        "print (\"\\n\",corr)\n",
        "# Correlation matrix - Seaborn heatmap\n",
        "sns.heatmap(data=corr, annot=True, linewidths=.5, fmt= '.1f')"
      ],
      "metadata": {
        "id": "ug7inGdxbekA"
      },
      "execution_count": null,
      "outputs": []
    },
    {
      "cell_type": "code",
      "source": [
        "\n",
        "\n",
        "# categorical_features = [\"Gender\",\"family_history_with_overweight\",\"FAVC\",\"CAEC\",\"SMOKE\",\"SCC\",\"CALC\",\"MTRANS\"]\n",
        "# one_hot = OneHotEncoder()\n",
        "# transformer = ColumnTransformer([(\"one_hot\",\n",
        "#                                    one_hot,\n",
        "#                                    categorical_features)],\n",
        "#                                    remainder=\"passthrough\")\n",
        "# transformed_X = transformer.fit_transform(X)\n"
      ],
      "metadata": {
        "id": "48mo2YykT06p"
      },
      "execution_count": null,
      "outputs": []
    },
    {
      "cell_type": "code",
      "source": [
        "np.random.seed(8)\n",
        "\n",
        "X = data.drop(\"NObeyesdad\",axis=1)\n",
        "y = data[\"NObeyesdad\"]\n",
        "X_train, X_test, y_train, y_test = train_test_split(X,y,test_size=0.2)"
      ],
      "metadata": {
        "id": "cC8rKdOqllap"
      },
      "execution_count": null,
      "outputs": []
    },
    {
      "cell_type": "code",
      "source": [
        "def evaluate_preds(y_true, y_pred):\n",
        "    \"\"\"\n",
        "    Performs evaluation comparison on y_true labels vs. y_pred labels\n",
        "    on a classification.\n",
        "    \"\"\"\n",
        "    accuracy = accuracy_score(y_true, y_pred)\n",
        "    precision = precision_score(y_true, y_pred,average=\"macro\")\n",
        "    recall = recall_score(y_true, y_pred,average=\"macro\")\n",
        "    f1 = f1_score(y_true, y_pred,average=\"macro\")\n",
        "\n",
        "    # actual = y_test\n",
        "    # predicted = y_pred\n",
        "\n",
        "\n",
        "    confusion_matrix = metrics.confusion_matrix(y_test, y_pred)\n",
        "\n",
        "    cm_display = metrics.ConfusionMatrixDisplay(confusion_matrix = confusion_matrix,)\n",
        "\n",
        "    cm_display.plot()\n",
        "    plt.show()\n",
        "    # print(f\"Accuracy: {accuracy * 100:.2f}%\")\n",
        "    # print(f\"Precision: {precision:.2f}\")\n",
        "    # print(f\"Recall: {recall:.2f}\")\n",
        "    # print(f\"F1 score: {f1:.2f}\")\n",
        "\n",
        "\n",
        "def validate_model(X, y, model, num_runs=1000, test_size=0.2, output=True):\n",
        "    \"\"\"\n",
        "    Performs hold-out validation of a given model on the dataset provided (X, y).\n",
        "    The default number of runs is 1000, and the default training/test split is 80/20.\n",
        "    \"\"\"\n",
        "    # arrays for storing performance metrics; accuracy, precision and recall\n",
        "    acc_list = np.array([])\n",
        "    prec_list = np.array([])\n",
        "    rec_list = np.array([])\n",
        "\n",
        "    # capturing the start-time\n",
        "    start_time = time()\n",
        "\n",
        "\n",
        "    if output:\n",
        "        print(\"Starting model validation\")\n",
        "\n",
        "    # runing `num_runs` number of validation runs of data splitting, training and testing\n",
        "    for x in range(num_runs):\n",
        "        # Hold-out validation - default 80% training and 20% testing\n",
        "        X_train, X_test, y_train, y_test = train_test_split(X, y, test_size=test_size, random_state=None)\n",
        "\n",
        "        # Training and testing the model\n",
        "        model.fit(X_train, y_train)\n",
        "        y_pred = model.predict(X_test)\n",
        "\n",
        "        # Appending performance metrics to arrays created above\n",
        "        acc_list = np.append(acc_list, accuracy_score(y_test, y_pred))\n",
        "        prec_list = np.append(prec_list, precision_score(y_test, y_pred, average='macro'))\n",
        "        rec_list = np.append(rec_list, recall_score(y_test, y_pred, average='macro'))\n",
        "\n",
        "    # capturing the end-time and printing out\n",
        "    end_time = time()\n",
        "\n",
        "    if output:\n",
        "        print(\"Completed %d validation runs in %.2f seconds\\n\" % (num_runs, end_time - start_time))\n",
        "\n",
        "    return acc_list, prec_list, rec_list\n",
        "\n",
        "\n",
        "\n",
        "result_df = pd.DataFrame(columns=['Model','Accuracy','Precision','Recall'])\n",
        "\n",
        "def add_result(model_name, acc_list, prec_list, rec_list):\n",
        "    \"\"\"\n",
        "    Add a result row to a pandas dataframe (created above) for a model with name (model_name).\n",
        "    mse_list, mae_list and me_list are array lists of performance results from different hold-out validation runs,\n",
        "    coming from the validate_model() function, above.\n",
        "    \"\"\"\n",
        "    global result_df # doing this to be able to access the gloval dataframe defined above the function\n",
        "\n",
        "    new_row = {'Model':model_name, 'Accuracy':acc_list.mean(), 'Precision':prec_list.mean(), 'Recall':rec_list.mean()}\n",
        "    result_df = pd.concat([result_df, pd.Series(new_row).to_frame().T])\n",
        "\n",
        "    return result_df\n",
        "\n",
        "def print_results(acc_list, prec_list, rec_list):\n",
        "    \"\"\"\n",
        "    Prints out the mean ACCURACY, PRECISION and RECALL + 2 x standard deviation (STD).\n",
        "    We multiply the STD by 2 because 95% of the data around the mean is within 2 standard deviations,\n",
        "    so it gives us a good idea of the range of values around the mean.\n",
        "    \"\"\"\n",
        "    print(\"ACC:   %0.2f (+/- %0.2f)\" % (acc_list.mean(), acc_list.std() * 2))\n",
        "    print(\"PREC:  %0.2f (+/- %0.2f)\" % (prec_list.mean(), prec_list.std() * 2))\n",
        "    print(\"REC:   %0.2f (+/- %0.2f)\" % (rec_list.mean(), rec_list.std() * 2))\n",
        "\n",
        "def clear_results():\n",
        "    \"\"\"\n",
        "    Clears the result dataframe.\n",
        "    \"\"\"\n",
        "    global result_df\n",
        "    result_df = pd.DataFrame(columns=['Model','Accuracy','Precision','Recall'])\n",
        "num_runs = 1"
      ],
      "metadata": {
        "id": "kOM0oUkQUeZM"
      },
      "execution_count": null,
      "outputs": []
    },
    {
      "cell_type": "code",
      "source": [
        "# model = RandomForestClassifier()\n",
        "# model.fit(X_train,y_train);\n",
        "# y_preds = model.predict(X_test)\n",
        "# evaluate_preds(y_test,y_preds)\n",
        "# print(classification_report(y_test,y_preds))\n",
        "\n",
        "\n",
        "\n",
        "# actual = y_test\n",
        "# predicted = y_preds\n",
        "\n",
        "# confusion_matrix = metrics.confusion_matrix(actual, predicted)\n",
        "\n",
        "# cm_display = metrics.ConfusionMatrixDisplay(confusion_matrix = confusion_matrix,)\n",
        "\n",
        "# cm_display.plot()\n",
        "# plt.show()\n",
        "\n",
        "\n",
        "model = RandomForestClassifier(n_estimators=200)\n",
        "\n",
        "\n",
        "# arrays for storing performance metrics\n",
        "acc_list, prec_list, rec_list = validate_model(X, y, model, num_runs)\n",
        "\n",
        "# save the result\n",
        "add_result('RF', acc_list, prec_list, rec_list)\n",
        "\n",
        "# printing out the performance metrics\n",
        "print_results(acc_list, prec_list, rec_list)\n",
        "\n",
        "# print out f1 score\n",
        "y_preds = model.predict(X_test)\n",
        "print(classification_report(y_test,y_preds))\n",
        "\n",
        "evaluate_preds(y_test,y_preds)"
      ],
      "metadata": {
        "id": "8lhNkFl5Ug11",
        "outputId": "02b0ed91-baf2-4276-f9b3-232d6c7fe244",
        "colab": {
          "base_uri": "https://localhost:8080/"
        }
      },
      "execution_count": null,
      "outputs": [
        {
          "output_type": "stream",
          "name": "stdout",
          "text": [
            "Starting model validation\n"
          ]
        }
      ]
    }
  ]
}